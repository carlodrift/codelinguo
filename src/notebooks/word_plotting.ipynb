{
 "cells": [
  {
   "cell_type": "markdown",
   "source": [
    "%use lets-plot\n",
    "\n"
   ],
   "metadata": {
    "collapsed": false
   }
  },
  {
   "cell_type": "markdown",
   "source": [
    "### Test de différents schémas pour afficher les mots"
   ],
   "metadata": {
    "collapsed": false
   }
  },
  {
   "cell_type": "code",
   "execution_count": null,
   "outputs": [],
   "source": [],
   "metadata": {
    "collapsed": false
   }
  },
  {
   "cell_type": "code",
   "execution_count": 9,
   "outputs": [
    {
     "data": {
      "text/html": "   <div id=\"clfqhN\"></div>\n   <script type=\"text/javascript\" data-lets-plot-script=\"plot\">\n       (function() {\n           var plotSpec={\n\"mapping\":{\n},\n\"data\":{\n\"slice\":[5.0,3.0,3.0],\n\"name\":[\"Joueur\",\"Plateau\",\"Jeton\"]\n},\n\"kind\":\"plot\",\n\"scales\":[],\n\"layers\":[{\n\"mapping\":{\n\"slice\":\"slice\",\n\"fill\":\"name\"\n},\n\"stat\":\"identity\",\n\"size\":0.4,\n\"position\":\"identity\",\n\"geom\":\"pie\",\n\"size_unit\":\"x\",\n\"data\":{\n}\n}]\n};\n           var plotContainer = document.getElementById(\"clfqhN\");\n           window.letsPlotCall(function() {{\n               LetsPlot.buildPlotFromProcessedSpecs(plotSpec, -1, -1, plotContainer);\n           }});\n       })();    \n   </script>"
     },
     "execution_count": 9,
     "metadata": {},
     "output_type": "execute_result"
    }
   ],
   "source": [
    "\n",
    "val pieData = mapOf(\n",
    "  \"name\" to listOf(\"Joueur\", \"Plateau\", \"Jeton\"),\n",
    "  \"slice\" to listOf(5, 3, 3)\n",
    ")\n",
    "\n",
    "val pie = letsPlot(pieData) + geomPie(\n",
    "                             stat = Stat.identity,\n",
    "                             size = 0.4, sizeUnit = \"x\") {fill = \"name\"; slice = \"slice\"}\n"
   ],
   "metadata": {
    "collapsed": false,
    "ExecuteTime": {
     "end_time": "2023-12-11T10:39:01.591143700Z",
     "start_time": "2023-12-11T10:39:01.355144500Z"
    }
   }
  },
  {
   "cell_type": "code",
   "execution_count": 10,
   "outputs": [],
   "source": [
    "%use dataframe\n"
   ],
   "metadata": {
    "collapsed": false,
    "ExecuteTime": {
     "end_time": "2023-12-11T14:11:19.380168200Z",
     "start_time": "2023-12-11T14:05:29.945975600Z"
    }
   }
  }
 ],
 "metadata": {
  "kernelspec": {
   "display_name": "Kotlin",
   "language": "kotlin",
   "name": "kotlin"
  },
  "language_info": {
   "name": "kotlin",
   "version": "1.9.0",
   "mimetype": "text/x-kotlin",
   "file_extension": ".kt",
   "pygments_lexer": "kotlin",
   "codemirror_mode": "text/x-kotlin",
   "nbconvert_exporter": ""
  },
  "ktnbPluginMetadata": {
   "projectDependencies": [
    "sae_s5"
   ]
  }
 },
 "nbformat": 4,
 "nbformat_minor": 0
}
